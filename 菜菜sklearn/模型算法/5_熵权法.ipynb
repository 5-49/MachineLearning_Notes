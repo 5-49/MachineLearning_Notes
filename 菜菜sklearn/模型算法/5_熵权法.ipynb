{
 "cells": [
  {
   "cell_type": "markdown",
   "metadata": {},
   "source": [
    "# 熵权法\n",
    "\n",
    "评价因子重要性并生成新因子的方法"
   ]
  },
  {
   "cell_type": "code",
   "execution_count": 1,
   "metadata": {},
   "outputs": [],
   "source": [
    "import pandas as pd\n",
    "import numpy as np\n",
    "import math\n",
    "from numpy import array\n",
    "from sklearn.preprocessing import MinMaxScaler\n",
    "from sklearn.datasets import load_iris\n"
   ]
  },
  {
   "cell_type": "code",
   "execution_count": 3,
   "metadata": {},
   "outputs": [],
   "source": [
    "\n",
    "# 1读取数据,使用sklearn自带的鸢尾数据集\n",
    "iris = load_iris()\n",
    "x = iris.data\n",
    "df = pd.DataFrame(x)\n"
   ]
  },
  {
   "cell_type": "code",
   "execution_count": 4,
   "metadata": {},
   "outputs": [],
   "source": [
    "# 2数据预处理 ,去除空值的记录\n",
    "df.dropna(inplace=True)\n"
   ]
  },
  {
   "cell_type": "code",
   "execution_count": 5,
   "metadata": {},
   "outputs": [],
   "source": [
    "# 定义熵权法函数\n",
    "def cal_weight(x):\n",
    "    Scaler = MinMaxScaler().fit(x)\n",
    "    '''熵值法计算变量的权重'''\n",
    "    # 标准化\n",
    "    x = Scaler.transform(x)\n",
    "\n",
    "    # 求k\n",
    "    rows = x.shape[0]  # 行\n",
    "    cols = x.shape[1]  # 列\n",
    "    k = 1.0 / math.log(rows)\n",
    "\n",
    "    # 矩阵计算--\n",
    "    # 信息熵\n",
    "    # p=array(p)\n",
    "    x = array(x)\n",
    "    lnf = [[None] * cols for i in range(rows)]\n",
    "    lnf = array(lnf)\n",
    "    for i in range(0, rows):\n",
    "        for j in range(0, cols):\n",
    "            if x[i][j] == 0:\n",
    "                lnfij = 0.0\n",
    "            else:\n",
    "                p = x[i][j] / x.sum(axis=0)[j]\n",
    "                lnfij = math.log(p) * p * (-k)\n",
    "            lnf[i][j] = lnfij\n",
    "    lnf = pd.DataFrame(lnf)\n",
    "    E = lnf\n",
    "\n",
    "    # 计算冗余度\n",
    "    d = 1 - E.sum(axis=0)\n",
    "\n",
    "    # 计算各指标的权重\n",
    "    w = np.zeros((x.shape[1],))\n",
    "\n",
    "    for j in range(cols):\n",
    "        wj = d[j] / sum(d)\n",
    "        w[j] = wj\n",
    "        # 计算各样本的综合得分,用最原始的数据\n",
    "\n",
    "    w = pd.DataFrame(w)\n",
    "    return w"
   ]
  },
  {
   "cell_type": "code",
   "execution_count": 6,
   "metadata": {},
   "outputs": [
    {
     "name": "stdout",
     "output_type": "stream",
     "text": [
      "                     weight\n",
      "sepal length (cm)  0.193200\n",
      "sepal width (cm)   0.112592\n",
      "petal length (cm)  0.318074\n",
      "petal width (cm)   0.376134\n"
     ]
    }
   ],
   "source": [
    "\n",
    "# 计算df各字段的权重\n",
    "w = cal_weight(df)  # 调用cal_weight\n",
    "w.index = iris.feature_names\n",
    "w.columns = ['weight']\n",
    "print(w)"
   ]
  }
 ],
 "metadata": {
  "interpreter": {
   "hash": "9efce205f64ad363cd9f14615485aca38ee4ef0915866e318aa83c8d0c93f6fc"
  },
  "kernelspec": {
   "display_name": "Python 3.10.2 64-bit",
   "language": "python",
   "name": "python3"
  },
  "language_info": {
   "codemirror_mode": {
    "name": "ipython",
    "version": 3
   },
   "file_extension": ".py",
   "mimetype": "text/x-python",
   "name": "python",
   "nbconvert_exporter": "python",
   "pygments_lexer": "ipython3",
   "version": "3.10.2"
  },
  "orig_nbformat": 4
 },
 "nbformat": 4,
 "nbformat_minor": 2
}
